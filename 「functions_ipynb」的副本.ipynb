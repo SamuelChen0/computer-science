{
  "nbformat": 4,
  "nbformat_minor": 0,
  "metadata": {
    "colab": {
      "provenance": [],
      "include_colab_link": true
    },
    "kernelspec": {
      "name": "python3",
      "display_name": "Python 3"
    },
    "language_info": {
      "name": "python"
    }
  },
  "cells": [
    {
      "cell_type": "markdown",
      "metadata": {
        "id": "view-in-github",
        "colab_type": "text"
      },
      "source": [
        "<a href=\"https://colab.research.google.com/github/SamuelChen0/computer-science/blob/main/%E3%80%8Cfunctions_ipynb%E3%80%8D%E7%9A%84%E5%89%AF%E6%9C%AC.ipynb\" target=\"_parent\"><img src=\"https://colab.research.google.com/assets/colab-badge.svg\" alt=\"Open In Colab\"/></a>"
      ]
    },
    {
      "cell_type": "markdown",
      "source": [
        "### **Introduction to Functions**\n",
        "\n",
        "In programming, a function is a self-contained block of code that encapsulates a specific task or related group of tasks. Functions are essential for breaking down complex tasks into smaller, more manageable parts.\n",
        "\n",
        "Advantages of using functions:\n",
        "- **Modularity:** Break down complex tasks into smaller, reusable chunks.\n",
        "- **Reusability:** Write once, use multiple times.\n",
        "- **Maintainability:** Easier to fix issues in one centralized location.\n",
        "- **Abstraction:** Hide complex implementation details, presenting a simple interface.\n",
        "\n",
        "---\n",
        "\n",
        "### **Defining and Calling Functions**\n",
        "\n",
        "**1. Defining a Function:**\n",
        "\n",
        "Use the `def` keyword followed by a function name, parentheses, and a colon. The code block within every function is indented.\n",
        "\n",
        "```python\n",
        "def greet():\n",
        "    print(\"Hello, World!\")\n",
        "```\n",
        "\n",
        "**2. Calling a Function:**\n",
        "\n",
        "To execute the function's code, use the function name followed by parentheses.\n",
        "\n",
        "```python\n",
        "greet()  # This will print \"Hello, World!\"\n",
        "```\n",
        "\n",
        "---\n",
        "\n",
        "### **Parameters and Return Values**\n",
        "\n",
        "**1. Parameters:**\n",
        "\n",
        "Functions can take inputs, known as parameters, to process and potentially use in its task.\n",
        "\n",
        "```python\n",
        "def greet(name):\n",
        "    print(f\"Hello, {name}!\")\n",
        "```\n",
        "\n",
        "**2. Return Values:**\n",
        "\n",
        "Functions can also return results to the caller using the `return` keyword. If no return statement is provided, the function will return `None` by default.\n",
        "\n",
        "```python\n",
        "def add(a, b):\n",
        "    return a + b\n",
        "```\n",
        "\n",
        "---"
      ],
      "metadata": {
        "id": "9G7BXlQXQQ9X"
      }
    },
    {
      "cell_type": "markdown",
      "source": [
        "### **Practice Exercises:**\n",
        "\n",
        "1. **Hello Name:**\n",
        "   - Define a function that takes a name as a parameter and prints \"Hello, [Name]!\".\n",
        "   \n"
      ],
      "metadata": {
        "id": "tBNd71f_yRYF"
      }
    },
    {
      "cell_type": "code",
      "source": [
        "#ex1\n",
        "def greet(name):\n",
        "  print(f\"Hello,{name}!\")\n",
        "\n",
        "greet(\"Samuel\")"
      ],
      "metadata": {
        "id": "8lYZuO2CyUqd",
        "colab": {
          "base_uri": "https://localhost:8080/"
        },
        "outputId": "aefec38e-f9ff-4f51-9977-b318786a5e38"
      },
      "execution_count": null,
      "outputs": [
        {
          "output_type": "stream",
          "name": "stdout",
          "text": [
            "Hello,Samuel!\n"
          ]
        }
      ]
    },
    {
      "cell_type": "markdown",
      "source": [
        "2. **Area of a Circle:**\n",
        "   - Define a function that calculates the area of a circle given its radius.\n",
        "\n"
      ],
      "metadata": {
        "id": "c58v6-epyVNf"
      }
    },
    {
      "cell_type": "code",
      "source": [
        "#ex2\n",
        "def circle(r):\n",
        "  a=(r*r*3.14)\n",
        "  print(a)\n",
        "\n",
        "circle(3)\n"
      ],
      "metadata": {
        "id": "DHoK_BaVyfgL",
        "colab": {
          "base_uri": "https://localhost:8080/"
        },
        "outputId": "4f937ad5-6f38-444c-905a-59531cafc13e"
      },
      "execution_count": null,
      "outputs": [
        {
          "output_type": "stream",
          "name": "stdout",
          "text": [
            "28.26\n"
          ]
        }
      ]
    },
    {
      "cell_type": "markdown",
      "source": [
        "3. **String Reverser:**\n",
        "   - Write a function that returns the reverse of a given string.\n",
        "\n"
      ],
      "metadata": {
        "id": "wUDhG3X5yiJW"
      }
    },
    {
      "cell_type": "code",
      "source": [
        "from textwrap import dedent\n",
        "#ex3\n",
        "def reverse(input):\n",
        "    reversed = input[::-1]\n",
        "    return reversed\n",
        "\n",
        "\n",
        "a= \"Hello, World!\"\n",
        "d= reverse(a)\n",
        "print(d)\n",
        "\n"
      ],
      "metadata": {
        "id": "f7I9hlbSykBG",
        "colab": {
          "base_uri": "https://localhost:8080/"
        },
        "outputId": "2ab9bb00-21d5-48a4-b950-b1fce2ceeeac"
      },
      "execution_count": 12,
      "outputs": [
        {
          "output_type": "stream",
          "name": "stdout",
          "text": [
            "!dlroW ,olleH\n"
          ]
        }
      ]
    },
    {
      "cell_type": "markdown",
      "source": [
        "4. **List Multiplier:**\n",
        "   - Write a function that takes a list and a number as parameters. The function should return a new list where each element is multiplied by the number.\n",
        "\n"
      ],
      "metadata": {
        "id": "Z7trQ7wCyluv"
      }
    },
    {
      "cell_type": "code",
      "source": [
        "def m(i, mul):\n",
        "    mu= [element * mul for element in i]\n",
        "    return mu\n",
        "\n",
        "o = [1, 2, 3, 4, 5]\n",
        "multiplie = 2\n",
        "r = m(o, multiplie)\n",
        "print(r)\n",
        "\n"
      ],
      "metadata": {
        "id": "QcK55imVynU8",
        "colab": {
          "base_uri": "https://localhost:8080/"
        },
        "outputId": "2f92a523-da41-4561-8136-805d264d9142"
      },
      "execution_count": 15,
      "outputs": [
        {
          "output_type": "stream",
          "name": "stdout",
          "text": [
            "[2, 4, 6, 8, 10]\n"
          ]
        }
      ]
    },
    {
      "cell_type": "markdown",
      "source": [
        "5. **Prime Checker:**\n",
        "   - Create a function that checks if a number is prime. If prime, it should return `True`, otherwise `False`.\n",
        "\n"
      ],
      "metadata": {
        "id": "cIZyRI10yogs"
      }
    },
    {
      "cell_type": "code",
      "source": [
        "#ex5\n",
        "def is_prime(number):\n",
        "    if number <= 1:\n",
        "        return False\n",
        "    elif number <= 3:\n",
        "        return True\n",
        "    elif number % 2 == 0 or number % 3 == 0:\n",
        "        return False\n",
        "\n",
        "    i = 5\n",
        "    while i * i <= number:\n",
        "        if number % i == 0 or number % (i + 2) == 0:\n",
        "            return False\n",
        "        i += 6\n",
        "\n",
        "    return True\n",
        "\n",
        "\n",
        "number_to_check = 17\n",
        "if is_prime(number_to_check):\n",
        "    print(f\"{number_to_check} is prime.\")\n",
        "else:\n",
        "    print(f\"{number_to_check} is not prime.\")\n",
        "\n"
      ],
      "metadata": {
        "id": "6bs6XxzSyprq"
      },
      "execution_count": null,
      "outputs": []
    },
    {
      "cell_type": "markdown",
      "source": [
        "6. **Factorial Calculator:**\n",
        "   - Write a function that calculates the factorial of a number.\n",
        "\n"
      ],
      "metadata": {
        "id": "-g_xki8tyrjp"
      }
    },
    {
      "cell_type": "code",
      "source": [
        "#ex6\n",
        "\n",
        "def factorial(c):\n",
        "  r=1\n",
        "  for i in range(1,c+1):\n",
        "    r=r*i\n",
        "  print(r)\n",
        "\n",
        "factorial(4)"
      ],
      "metadata": {
        "id": "y3dO2HWdyswx",
        "colab": {
          "base_uri": "https://localhost:8080/"
        },
        "outputId": "ad5ad7ef-046c-49e7-9a45-013ef0383eb0"
      },
      "execution_count": 9,
      "outputs": [
        {
          "output_type": "stream",
          "name": "stdout",
          "text": [
            "24\n"
          ]
        }
      ]
    },
    {
      "cell_type": "markdown",
      "source": [
        "7. **Age in Dog Years:**\n",
        "   - Define a function that converts human years to dog years (1 human year = 7 dog years).\n",
        "\n"
      ],
      "metadata": {
        "id": "6XrVk9wzywM2"
      }
    },
    {
      "cell_type": "code",
      "source": [
        "#ex7\n",
        "def year(i):\n",
        "  dog=i/7\n",
        "  print(dog,\"years old\")\n",
        "year(49)"
      ],
      "metadata": {
        "id": "Uplmvk7Syxno",
        "colab": {
          "base_uri": "https://localhost:8080/"
        },
        "outputId": "27035346-66ce-4299-afdd-37faf3364d73"
      },
      "execution_count": null,
      "outputs": [
        {
          "output_type": "stream",
          "name": "stdout",
          "text": [
            "7.0\n"
          ]
        }
      ]
    },
    {
      "cell_type": "markdown",
      "source": [
        "8. **Temperature Converter:**\n",
        "   - Create a function that converts Celsius to Fahrenheit.\n",
        "\n"
      ],
      "metadata": {
        "id": "yzhpfw4Syzdc"
      }
    },
    {
      "cell_type": "code",
      "source": [
        "#ex8\n",
        "def CToF(c):\n",
        "  F=c*9/5+32\n",
        "  print(F)\n",
        "CToF(100)\n"
      ],
      "metadata": {
        "id": "v-7DVKBWy0yK",
        "colab": {
          "base_uri": "https://localhost:8080/"
        },
        "outputId": "df6c3b07-c31d-4e4b-e260-277d95bfcb11"
      },
      "execution_count": 11,
      "outputs": [
        {
          "output_type": "stream",
          "name": "stdout",
          "text": [
            "212.0\n"
          ]
        }
      ]
    },
    {
      "cell_type": "markdown",
      "source": [
        "9. **String Repeater:**\n",
        "   - Define a function that takes a string and a number, then returns the string repeated that number of times.\n",
        "\n"
      ],
      "metadata": {
        "id": "kQlt7ezky1_Z"
      }
    },
    {
      "cell_type": "code",
      "source": [
        "#ex9\n",
        "def repeat(a,b):\n",
        "  print(a*b)\n",
        "word=str(\"word\")\n",
        "num=int(3)\n",
        "repeat(word,num)"
      ],
      "metadata": {
        "id": "n23sdrE8y3an",
        "colab": {
          "base_uri": "https://localhost:8080/"
        },
        "outputId": "8a2b4bc4-8ee3-4e84-87da-cbfc14c54f90"
      },
      "execution_count": null,
      "outputs": [
        {
          "output_type": "stream",
          "name": "stdout",
          "text": [
            "wordwordword\n"
          ]
        }
      ]
    },
    {
      "cell_type": "markdown",
      "source": [
        "10. **List Average:**\n",
        "   - Write a function that calculates the average of a list of numbers.\n"
      ],
      "metadata": {
        "id": "PrcszXAay4e0"
      }
    },
    {
      "cell_type": "code",
      "source": [
        "#ex10\n",
        "def average(a,b,c,d):\n",
        "  sum=a+b+c+d\n",
        "  ave=sum/4\n",
        "  print(\"average:\",ave)\n",
        "\n",
        "average(3,4,5,6)\n",
        "\n",
        "\n"
      ],
      "metadata": {
        "id": "LSG5y_X-y54t",
        "colab": {
          "base_uri": "https://localhost:8080/"
        },
        "outputId": "51c4f099-6abb-4f8c-fb38-b83af6e837f2"
      },
      "execution_count": null,
      "outputs": [
        {
          "output_type": "stream",
          "name": "stdout",
          "text": [
            "average: 4.5\n"
          ]
        }
      ]
    }
  ]
}