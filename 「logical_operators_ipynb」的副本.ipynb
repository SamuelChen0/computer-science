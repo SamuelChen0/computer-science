{
  "nbformat": 4,
  "nbformat_minor": 0,
  "metadata": {
    "colab": {
      "provenance": []
    },
    "kernelspec": {
      "name": "python3",
      "display_name": "Python 3"
    },
    "language_info": {
      "name": "python"
    }
  },
  "cells": [
    {
      "cell_type": "markdown",
      "source": [
        "\n",
        "### **Logical Operators**\n",
        "\n",
        "Logical operators are used to combine conditional statements.\n",
        "\n",
        "**1. `and` Operator:**\n",
        "- Returns `True` if both statements are true.\n",
        "  \n",
        "  **Example:**\n",
        "  ```python\n",
        "  age = 25\n",
        "  if age > 18 and age < 30:\n",
        "      print(\"You are a young adult.\")\n",
        "  ```\n",
        "\n",
        "**2. `or` Operator:**\n",
        "- Returns `True` if at least one of the statements is true.\n",
        "  \n",
        "  **Example:**\n",
        "  ```python\n",
        "  day = \"Sunday\"\n",
        "  if day == \"Saturday\" or day == \"Sunday\":\n",
        "      print(\"It's the weekend!\")\n",
        "  ```\n",
        "\n",
        "**3. `not` Operator:**\n",
        "- Used to reverse the result; returns `False` if the result is true and vice versa.\n",
        "  \n",
        "  **Example:**\n",
        "  ```python\n",
        "  is_raining = False\n",
        "  if not is_raining:\n",
        "      print(\"It's a sunny day!\")\n",
        "  ```\n",
        "\n",
        "---\n",
        "\n",
        "### **Nested Conditional Statements**\n",
        "\n",
        "Sometimes, you may want to evaluate a condition inside another condition. This is referred to as nesting.\n",
        "\n",
        "**Example:**\n",
        "```python\n",
        "age = 25\n",
        "gender = \"Female\"\n",
        "if age < 30:\n",
        "    if gender == \"Female\":\n",
        "        print(\"Young female.\")\n",
        "    else:\n",
        "        print(\"Young male.\")\n",
        "else:\n",
        "    if gender == \"Female\":\n",
        "        print(\"Mature female.\")\n",
        "    else:\n",
        "        print(\"Mature male.\")\n",
        "```\n",
        "\n",
        "In the example above, the outer `if` checks the age, and the inner `if` checks the gender, leading to more precise classifications.\n",
        "\n"
      ],
      "metadata": {
        "id": "_J_0H623DMoG"
      }
    },
    {
      "cell_type": "code",
      "source": [
        "#Test the examples above here\n",
        "age = 25\n",
        "gender = \"Female\"\n",
        "if age < 30:\n",
        "    if gender == \"Female\":\n",
        "        print(\"Young female.\")\n",
        "    else:\n",
        "        print(\"Young male.\")\n",
        "else:\n",
        "    if gender == \"Female\":\n",
        "        print(\"Mature female.\")\n",
        "    else:\n",
        "        print(\"Mature male.\")"
      ],
      "metadata": {
        "id": "1tzurxbLDYuS",
        "colab": {
          "base_uri": "https://localhost:8080/"
        },
        "outputId": "a896b8b2-6449-4d0b-ed17-0a59e1496054"
      },
      "execution_count": 1,
      "outputs": [
        {
          "output_type": "stream",
          "name": "stdout",
          "text": [
            "Young female.\n"
          ]
        }
      ]
    },
    {
      "cell_type": "markdown",
      "source": [
        "### **Practice Exercises:**\n",
        "\n",
        "1. **Temperature Alert:**\n",
        "   - Ask the user for the current temperature and if it's raining (yes/no).\n",
        "   - If it's above 30°C and not raining, suggest wearing sunscreen. If it's below 30°C and raining, suggest taking an umbrella.\n",
        "\n",
        "\n",
        "\n"
      ],
      "metadata": {
        "id": "_2pb9LXWDcXE"
      }
    },
    {
      "cell_type": "code",
      "source": [
        "#Ex1\n",
        "temp=int(input(\"temperature:\"))\n",
        "r=(str(input(\"rain(yes/no):\")))\n",
        "if temp>30 and r=='no' :\n",
        "  print(\"Suggest wearing sunscreen\")\n",
        "if temp<30 and r=='yes' :\n",
        "  print(\"Suggest taking an umbrella\")"
      ],
      "metadata": {
        "id": "AyCFWr2cDiuz",
        "colab": {
          "base_uri": "https://localhost:8080/"
        },
        "outputId": "d7eb8ffa-5de3-49aa-825f-d3007a246fba"
      },
      "execution_count": 8,
      "outputs": [
        {
          "output_type": "stream",
          "name": "stdout",
          "text": [
            "temperature:32\n",
            "rain(yes/no):no\n",
            "Suggest wearing sunscreen\n"
          ]
        }
      ]
    },
    {
      "cell_type": "markdown",
      "source": [
        "2. **Movie Night:**\n",
        "   - Ask the user if they like action movies and if they like romantic movies.\n",
        "   - Recommend a movie based on their preferences:\n",
        "     - Action and romance: \"Mr. & Mrs. Smith\",\n",
        "     - Only action: \"Die Hard\",\n",
        "     - Only romance: \"Pride and Prejudice\",\n",
        "     - Neither: \"Try watching a documentary!\"\n",
        "\n"
      ],
      "metadata": {
        "id": "hne5hxgMDj0i"
      }
    },
    {
      "cell_type": "code",
      "source": [
        "#Ex2\n",
        "a=input(\"Action movies (yes/no)\")\n",
        "r=input(\"Romantic movies (yes/no)\")\n",
        "if a=='yes' and r=='yes':\n",
        "  print(\"Mr. & Mrs. Smith\")\n",
        "if a=='yes' and r=='no':\n",
        "  print(\"Die Hard\")\n",
        "if a=='no' and r=='yes':\n",
        "  print(\"Pride and Prejudice\")\n",
        "if a=='no' and r=='no':\n",
        "  print(\"Try watching a documentary!\")"
      ],
      "metadata": {
        "id": "m13PVPajDlwd",
        "colab": {
          "base_uri": "https://localhost:8080/"
        },
        "outputId": "4e2ad116-bbee-4115-a645-e53d631053ff"
      },
      "execution_count": 9,
      "outputs": [
        {
          "output_type": "stream",
          "name": "stdout",
          "text": [
            "Action movies (yes/no)yes\n",
            "Romantic movies (yes/no)no\n",
            "Die Hard\n"
          ]
        }
      ]
    },
    {
      "cell_type": "markdown",
      "source": [
        "3. **Eligibility for a Credit Card:**\n",
        "   - Ask the user for their age and monthly salary.\n",
        "   - If they are over 18 and earn more than $1,000 per month, inform them they are eligible for a credit card.\n"
      ],
      "metadata": {
        "id": "2DUNWDlsDmzl"
      }
    },
    {
      "cell_type": "code",
      "source": [
        "#Ex3\n",
        "age=int(input(\"Age:\"))\n",
        "sa=int(input(\"Monthly salary:\"))\n",
        "if age>18 and sa>1000:\n",
        "  print(\"Yor are eligible for a credit card!\")"
      ],
      "metadata": {
        "id": "KiuF2ByZDoZG",
        "colab": {
          "base_uri": "https://localhost:8080/"
        },
        "outputId": "73ddb8df-3863-4079-8a24-29b3ee440133"
      },
      "execution_count": 11,
      "outputs": [
        {
          "name": "stdout",
          "output_type": "stream",
          "text": [
            "Age:13\n",
            "Monthly salary:1222\n"
          ]
        }
      ]
    },
    {
      "cell_type": "markdown",
      "source": [
        "\n",
        "4. **Nested Age Bracket Classifier:**\n",
        "   - Ask the user for their age and gender.\n",
        "   - Classify them into 'Young/Mature Male/Female' using nested conditional statements.\n"
      ],
      "metadata": {
        "id": "0p0RmJMKDpdG"
      }
    },
    {
      "cell_type": "code",
      "source": [
        "#Ex4\n",
        "age=int(input(\"Age:\"))\n",
        "gen=input(\"Gender(Female/Male):\")\n",
        "if age>30 and gen=='Male':\n",
        "  print(\"Mature Male\")\n",
        "elif age>30 and gen=='Female':\n",
        "  print(\"Mature Female\")\n",
        "elif age<30 and gen=='Male':\n",
        "  print(\"Young Male\")\n",
        "else:\n",
        "  print(\"Young Female\")"
      ],
      "metadata": {
        "id": "QSi5-aToDrnK",
        "colab": {
          "base_uri": "https://localhost:8080/"
        },
        "outputId": "41ec4f68-481c-490f-8dae-d87761360e3b"
      },
      "execution_count": 17,
      "outputs": [
        {
          "output_type": "stream",
          "name": "stdout",
          "text": [
            "Age:20\n",
            "Gender(Female/Male):Female\n",
            "Young Female\n"
          ]
        }
      ]
    },
    {
      "cell_type": "markdown",
      "source": [
        "\n",
        "5. **Weekend Activity Planner:**\n",
        "   - Ask the user if it's a weekend and if the weather is good.\n",
        "   - Provide activity suggestions based on their answers:\n",
        "     - Weekend and good weather: \"Go for a picnic!\",\n",
        "     - Weekend and bad weather: \"Maybe watch a movie at home?\",\n",
        "     - Weekday and good weather: \"Don't forget your sunglasses on your way to work!\",\n",
        "     - Weekday and bad weather: \"Take an umbrella today.\""
      ],
      "metadata": {
        "id": "tyG7h84BDsrX"
      }
    },
    {
      "cell_type": "code",
      "source": [
        "#Ex5\n",
        "wee=input(\"If it's a weekend (yes/no):\")\n",
        "wea=input(\"good weather/bad weather:\")\n",
        "if wee=='yes':\n",
        "  if wea=='good weather':\n",
        "    print(\"Go for a picnic!\")\n",
        "  else:\n",
        "    print(\"Maybe watch a movie at home?\")\n",
        "else:\n",
        "  if wea=='good weather':\n",
        "    print('Do not forget your sunglasses on your way to work!')\n",
        "  else:\n",
        "    print(\"Take an umbrella today!\")\n"
      ],
      "metadata": {
        "id": "7q-ze3tCDtgQ",
        "colab": {
          "base_uri": "https://localhost:8080/"
        },
        "outputId": "a4f33066-3e6f-4937-9c38-ae7b341144c4"
      },
      "execution_count": 20,
      "outputs": [
        {
          "output_type": "stream",
          "name": "stdout",
          "text": [
            "If it's a weekend (yes/no):no\n",
            "good weather/bad weather:bad weather\n",
            "Take an umbrella today!\n"
          ]
        }
      ]
    }
  ]
}