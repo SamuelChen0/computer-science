{
  "nbformat": 4,
  "nbformat_minor": 0,
  "metadata": {
    "colab": {
      "provenance": []
    },
    "kernelspec": {
      "name": "python3",
      "display_name": "Python 3"
    },
    "language_info": {
      "name": "python"
    }
  },
  "cells": [
    {
      "cell_type": "markdown",
      "source": [
        "---\n",
        "\n",
        "### **Type Conversion & User Input**\n",
        "\n",
        "---\n",
        "\n",
        "**I. Introduction to Type Conversion**\n",
        "\n",
        "- **Concept of Data Types and Compatibility:**\n",
        "    - Sometimes, different data types can't directly interact or work together.\n",
        "    - For instance, you can't directly add a text representation of a number (string) to an actual number (integer or float).\n",
        "\n",
        "- **Implicit vs. Explicit Type Conversion:**\n",
        "    - **Implicit:** Done automatically by the compiler/interpreter.\n",
        "    - **Explicit:** Done intentionally by the programmer.\n",
        "\n",
        "---\n",
        "\n",
        "**II. Implicit Type Conversion**\n",
        "\n",
        "- **Definition:**\n",
        "    - When the Python interpreter automatically changes one data type to another without the programmer's intervention.\n",
        "\n",
        "- **Examples:**\n",
        "    - Combining an integer with a float results in a float.\n",
        "    ```python\n",
        "    result = 3 + 4.5  # result is 7.5, a float\n",
        "    ```\n",
        "    - Combining an integer with a string can lead to errors.\n",
        "    \n",
        "- **Potential Pitfalls:**\n",
        "    - **Loss of Data:** Converting from float to integer discards the decimal part.\n",
        "    - **Unexpected Results:** Implicit conversion might not always yield the expected outcome.\n",
        "    - **Type Errors:** Some implicit conversions aren't allowed and can cause errors.\n",
        "\n",
        "---\n",
        "\n",
        "**III. Explicit Type Conversion**\n",
        "\n",
        "- **Definition:**\n",
        "    - When the programmer intentionally converts one data type to another using built-in functions.\n",
        "\n",
        "- **Conversion Functions:**\n",
        "    - `int()`: Converts a value to an integer.\n",
        "    - `float()`: Converts a value to a floating-point number.\n",
        "    - `str()`: Converts a value to a string.\n",
        "\n",
        "- **Demonstrations:**\n",
        "    - Convert a float to an integer:\n",
        "    ```python\n",
        "    integer_value = int(7.8)  # Result is 7\n",
        "    ```\n",
        "    - Convert an integer to a string:\n",
        "    ```python\n",
        "    string_value = str(25)  # Result is \"25\"\n",
        "    ```\n",
        "\n",
        "---\n",
        "\n",
        "**IV. Input from Users using the `input()` function**\n",
        "\n",
        "- **Introduction to `input()`:**\n",
        "    - A built-in Python function to take user input from the console.\n",
        "    \n",
        "- **Characteristics of `input()`:**\n",
        "    - The data obtained using `input()` is always a string. To use it as other data types, you need to convert it explicitly.\n",
        "\n",
        "---\n"
      ],
      "metadata": {
        "id": "CUpoFbofG8dq"
      }
    },
    {
      "cell_type": "markdown",
      "source": [
        "**1. Word Repetition Game**\n",
        "- Ask the user for a word and a number.\n",
        "- Convert the number to an integer and repeat the word that many times.\n",
        "- Example:\n",
        "    - Input: Word: \"Hello\", Number: \"3\"\n",
        "    - Output: \"HelloHelloHello\"\n",
        "\n",
        "---"
      ],
      "metadata": {
        "id": "wxkjUHtsH2hr"
      }
    },
    {
      "cell_type": "code",
      "source": [
        "#Ex1\n",
        "word=input(\"Word:\")\n",
        "number=int(input(\"Number:\"))\n",
        "output=word*number\n",
        "print(output)\n",
        "\n"
      ],
      "metadata": {
        "id": "hUtSMYsVH-eY",
        "colab": {
          "base_uri": "https://localhost:8080/"
        },
        "outputId": "d8d3d792-1f20-4cd6-e353-0da1a7cde1c8"
      },
      "execution_count": null,
      "outputs": [
        {
          "output_type": "stream",
          "name": "stdout",
          "text": [
            "Word:hello\n",
            "Number:3\n",
            "hellohellohello\n"
          ]
        }
      ]
    },
    {
      "cell_type": "markdown",
      "source": [
        "**2. Money Calculator**\n",
        "- Prompt the user for the number of coins they have (like pennies, nickels, dimes, and quarters).\n",
        "- Convert the input to integers.\n",
        "- Calculate the total amount in dollars and cents.\n",
        "\n",
        "---"
      ],
      "metadata": {
        "id": "eUlwvePkH_-D"
      }
    },
    {
      "cell_type": "code",
      "source": [
        "#Ex2\n",
        "p=int(input(\"Pennies:\"))\n",
        "n=int(input(\"Nickels:\"))\n",
        "d=int(input(\"Dimes:\"))\n",
        "q=int(input(\"Quarters:\"))\n",
        "pe=p/100\n",
        "ni=n/50\n",
        "di=d/10\n",
        "qu=q/25\n",
        "dollars=int(pe+ni+di+qu)\n",
        "cents=(pe+ni+di+qu-dollars)*100\n",
        "print(dollars,\" dollars,\",cents,\" cents\")\n",
        "\n",
        "\n"
      ],
      "metadata": {
        "id": "A43ujndhIGo_",
        "colab": {
          "base_uri": "https://localhost:8080/"
        },
        "outputId": "938e75aa-c1ad-4be9-8480-31c5fa70e02e"
      },
      "execution_count": 6,
      "outputs": [
        {
          "output_type": "stream",
          "name": "stdout",
          "text": [
            "Pennies:200\n",
            "Nickels:100\n",
            "Dimes:21\n",
            "Quarters:51\n",
            "8  dollars, 14.000000000000057  cents\n"
          ]
        }
      ]
    },
    {
      "cell_type": "markdown",
      "source": [
        "**3. Movie Time**\n",
        "- Ask the user how long a movie is in minutes (e.g., \"120\").\n",
        "- Convert this to hours and minutes and display it.\n",
        "- Example:\n",
        "    - Input: \"140\"\n",
        "    - Output: \"The movie is 2 hours and 20 minutes long.\"\n",
        "\n",
        "---"
      ],
      "metadata": {
        "id": "1cSXQp50ILlb"
      }
    },
    {
      "cell_type": "code",
      "source": [
        "#Ex3\n",
        "time=int(input(\"How long in minutes:\"))\n",
        "hours=int(time/60)\n",
        "minutes=time-60*hours\n",
        "print(hours,\" hours,\",minutes,\" minutes\")"
      ],
      "metadata": {
        "id": "6GCnZ9g7IQnZ",
        "colab": {
          "base_uri": "https://localhost:8080/"
        },
        "outputId": "155a4ec8-9fd0-454e-9a97-dc9d5984727f"
      },
      "execution_count": 5,
      "outputs": [
        {
          "output_type": "stream",
          "name": "stdout",
          "text": [
            "How long in minutes:121\n",
            "2  hours, 1  minutes\n"
          ]
        }
      ]
    },
    {
      "cell_type": "markdown",
      "source": [
        "**4. Age in Days**\n",
        "- Have the user input their age in years.\n",
        "- Convert the age to days (ignoring leap years) and display the result.\n",
        "- Example:\n",
        "    - Input: \"25\"\n",
        "    - Output: \"You are approximately 9125 days old.\"\n",
        "\n",
        "---\n"
      ],
      "metadata": {
        "id": "DJD0fXVUISLH"
      }
    },
    {
      "cell_type": "code",
      "source": [
        "#Ex4\n",
        "age=int(input(\"Age:\"))\n",
        "days=age*365\n",
        "print(\"You are approximately\",days,\"days old\")"
      ],
      "metadata": {
        "id": "L3TeR-x-IXj_",
        "colab": {
          "base_uri": "https://localhost:8080/"
        },
        "outputId": "f4890729-10f5-4e05-d369-4430c3ec8d07"
      },
      "execution_count": 8,
      "outputs": [
        {
          "output_type": "stream",
          "name": "stdout",
          "text": [
            "Age:10\n",
            "You are approximately 3650 days old\n"
          ]
        }
      ]
    },
    {
      "cell_type": "markdown",
      "source": [
        "**5. String Calculator**\n",
        "- Ask the user for two numbers but as strings (e.g., \"12\" and \"15\").\n",
        "- Convert these strings to integers and perform basic arithmetic operations on them (addition, subtraction, multiplication).\n",
        "\n",
        "---"
      ],
      "metadata": {
        "id": "sEcfkwlfIZJv"
      }
    },
    {
      "cell_type": "code",
      "source": [
        "#Ex5\n",
        "f=int(input(\"First number:\"))\n",
        "s=int(input(\"Second number:\"))\n",
        "a=f+s\n",
        "su=f-s\n",
        "m=f*s\n",
        "print(\"Addition:\",a,\"Subtraction:\",su,\"Multiplication:\",m)"
      ],
      "metadata": {
        "id": "kjKUS4-gIdrC",
        "colab": {
          "base_uri": "https://localhost:8080/"
        },
        "outputId": "b4937d62-4751-4b9e-c88a-857653e9cb96"
      },
      "execution_count": 9,
      "outputs": [
        {
          "output_type": "stream",
          "name": "stdout",
          "text": [
            "First number:2\n",
            "Second number:3\n",
            "Addition: 5 Subtraction: -1 Multiplication: 6\n"
          ]
        }
      ]
    },
    {
      "cell_type": "markdown",
      "source": [
        "**6. Weight Converter**\n",
        "- Prompt the user for their weight in pounds.\n",
        "- Convert the weight to kilograms (using the conversion 1 pound = 0.453592 kilograms) and display the result.\n",
        "\n",
        "---"
      ],
      "metadata": {
        "id": "XU-uz7_gIfar"
      }
    },
    {
      "cell_type": "code",
      "source": [
        "#Ex6\n",
        "weight=int(input(\"Weight in pounds:\"))\n",
        "k=weight*0.453592\n",
        "print(k,\"kilograms\")"
      ],
      "metadata": {
        "id": "uM2885UFIi4-",
        "colab": {
          "base_uri": "https://localhost:8080/"
        },
        "outputId": "d4fa0510-1875-4846-8d52-683929414913"
      },
      "execution_count": 10,
      "outputs": [
        {
          "output_type": "stream",
          "name": "stdout",
          "text": [
            "Weight in pounds:1000\n",
            "453.592 kilograms\n"
          ]
        }
      ]
    },
    {
      "cell_type": "markdown",
      "source": [
        "**7. Temperature Alert**\n",
        "- Ask the user for the temperature in Fahrenheit.\n",
        "- Convert it to Celsius.\n",
        "- If the temperature in Celsius is below 0, print an alert that it's freezing!\n",
        "\n",
        "---"
      ],
      "metadata": {
        "id": "Vqf3KRegIkwG"
      }
    },
    {
      "cell_type": "code",
      "source": [
        "#Ex7\n",
        "f=int(input(\"Temprature in Fahrenheit:\"))\n",
        "c=(f-32)*5/9\n",
        "if c<0:\n",
        "  print(\"Freezing\")\n",
        "\n",
        "else:\n",
        "  print(c)"
      ],
      "metadata": {
        "id": "Bvn01u27InZD",
        "colab": {
          "base_uri": "https://localhost:8080/"
        },
        "outputId": "bc0efd10-a7f4-45f4-d586-64755ebbd117"
      },
      "execution_count": 22,
      "outputs": [
        {
          "output_type": "stream",
          "name": "stdout",
          "text": [
            "Temprature in Fahrenheit:32\n",
            "0.0\n"
          ]
        }
      ]
    },
    {
      "cell_type": "markdown",
      "source": [
        "**8. User Feedback Rating**\n",
        "- Ask the user to rate a product on a scale of 1-10, but they should input it as a word (e.g., \"seven\").\n",
        "- Convert the word to its corresponding number. (This requires a bit more logic, using a dictionary or if-else statements.)\n",
        "- Display a message based on the number (e.g., for ratings 8-10, display \"Thank you! We're glad you loved it!\").\n",
        "\n",
        "---"
      ],
      "metadata": {
        "id": "HtgxB-B0IpTW"
      }
    },
    {
      "cell_type": "code",
      "source": [
        "#Ex8\n",
        "rate=input(\"Rate:\")\n",
        "\n",
        "if rate==\"eight\":\n",
        "  print(\"Thank you! We're glad you loved it!\")\n",
        "else:\n",
        "  if rate==\"nine\":\n",
        "    print(\"Thank you! We're glad you loved it!\")\n",
        "  else:\n",
        "    if rate==\"ten\":\n",
        "       print(\"Thank you! We're glad you loved it!\")\n",
        "#Congrats on maxing it this far! You rock!!!"
      ],
      "metadata": {
        "id": "_THFynUpIqTw"
      },
      "execution_count": null,
      "outputs": []
    },
    {
      "cell_type": "markdown",
      "source": [
        "In Python, both the comma (`,`) and the plus (`+`) sign can be used with the `print` function, but they serve different purposes and have different behaviors. Here are the main differences:\n",
        "\n",
        "1. **Type Compatibility**:\n",
        "   - **Comma (`,`)**: You can use the comma to concatenate items of different types without explicitly converting them. The `print` function will internally convert the arguments to strings.\n",
        "   - **Plus (`+`)**: When using the plus sign, the items being concatenated must be of the same type. If you're trying to concatenate a string with a number, for instance, you'll need to explicitly convert the number to a string using `str()`.\n",
        "\n",
        "2. **Output Spacing**:\n",
        "   - **Comma (`,`)**: When using a comma, the `print` function will insert a space between the items.\n",
        "   - **Plus (`+`)**: The plus sign will concatenate the items directly without any space in between.\n",
        "\n",
        "3. **Flexibility**:\n",
        "   - **Comma (`,`)**: You can print multiple items of different types easily, and also include additional parameters like `end` and `sep`.\n",
        "   - **Plus (`+`)**: It's primarily for string concatenation, and you'd have to manage type conversions yourself.\n",
        "\n",
        "Here's a demonstration of the differences:\n",
        "\n",
        "```python\n",
        "x = 5\n",
        "y = \"Hello\"\n",
        "\n",
        "# Using comma\n",
        "print(y, x)\n",
        "\n",
        "# Using plus (requires explicit type conversion for non-string types)\n",
        "print(y + \" \" + str(x))\n",
        "```\n",
        "\n",
        "The output for the above code would be:\n",
        "\n",
        "```\n",
        "Hello 5\n",
        "Hello 5\n",
        "```\n",
        "\n",
        "Let's run a demonstration to see the differences in action.\n",
        "\n",
        "As demonstrated:\n",
        "\n",
        "Using the comma (`,`):\n",
        "```\n",
        "Output: Hello 5\n",
        "```\n",
        "\n",
        "Using the plus (`+`):\n",
        "```\n",
        "Output: Hello 5\n",
        "```\n",
        "\n",
        "In both cases, the outputs are the same in this example. However, the distinction comes in how they handle different types and spacing, as previously explained. Using the comma is generally more forgiving and flexible for printing multiple items, while the plus sign requires more care regarding type compatibility and formatting."
      ],
      "metadata": {
        "id": "CPVKyuY2KKjd"
      }
    }
  ]
}